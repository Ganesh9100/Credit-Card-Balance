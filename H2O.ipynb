{
  "nbformat": 4,
  "nbformat_minor": 0,
  "metadata": {
    "colab": {
      "name": "H2O.ipynb",
      "provenance": [],
      "authorship_tag": "ABX9TyPeGlvIcrxLV+WEutqD/Ntf"
    },
    "kernelspec": {
      "name": "python3",
      "display_name": "Python 3"
    },
    "language_info": {
      "name": "python"
    }
  },
  "cells": [
    {
      "cell_type": "code",
      "metadata": {
        "colab": {
          "base_uri": "https://localhost:8080/"
        },
        "id": "mZI2xKDPUcc8",
        "outputId": "9f46bc9b-d5d6-484d-98d4-c06454d3f9a4"
      },
      "source": [
        "import pandas as pd\n",
        "import matplotlib.pyplot as plt\n",
        "print('Libraries Imported')"
      ],
      "execution_count": 1,
      "outputs": [
        {
          "output_type": "stream",
          "text": [
            "Libraries Imported\n"
          ],
          "name": "stdout"
        }
      ]
    },
    {
      "cell_type": "code",
      "metadata": {
        "colab": {
          "base_uri": "https://localhost:8080/"
        },
        "id": "Zsfygow_Uz3P",
        "outputId": "07521de6-ddb4-48ef-e3cf-e7f03045af34"
      },
      "source": [
        "!git clone 'https://github.com/Ganesh9100/Credit-Card-Balance.git'"
      ],
      "execution_count": 2,
      "outputs": [
        {
          "output_type": "stream",
          "text": [
            "Cloning into 'Credit-Card-Balance'...\n",
            "remote: Enumerating objects: 7, done.\u001b[K\n",
            "remote: Counting objects: 100% (7/7), done.\u001b[K\n",
            "remote: Compressing objects: 100% (6/6), done.\u001b[K\n",
            "remote: Total 7 (delta 1), reused 0 (delta 0), pack-reused 0\u001b[K\n",
            "Unpacking objects: 100% (7/7), done.\n"
          ],
          "name": "stdout"
        }
      ]
    },
    {
      "cell_type": "code",
      "metadata": {
        "colab": {
          "base_uri": "https://localhost:8080/"
        },
        "id": "kDSH5xq2U4q0",
        "outputId": "054e5a66-fae9-443a-ce66-d9ea2dda2cfe"
      },
      "source": [
        "%cd /content/Credit-Card-Balance"
      ],
      "execution_count": 3,
      "outputs": [
        {
          "output_type": "stream",
          "text": [
            "/content/Credit-Card-Balance\n"
          ],
          "name": "stdout"
        }
      ]
    },
    {
      "cell_type": "code",
      "metadata": {
        "colab": {
          "base_uri": "https://localhost:8080/",
          "height": 202
        },
        "id": "6I4pM78IUyIP",
        "outputId": "62070196-d416-44f0-d254-f5c253cf7e63"
      },
      "source": [
        "data = pd.read_csv('balance.txt', sep=\",\",index_col=[0])  # index_cols = making the unnamed col as index\n",
        "data.head()"
      ],
      "execution_count": 5,
      "outputs": [
        {
          "output_type": "execute_result",
          "data": {
            "text/html": [
              "<div>\n",
              "<style scoped>\n",
              "    .dataframe tbody tr th:only-of-type {\n",
              "        vertical-align: middle;\n",
              "    }\n",
              "\n",
              "    .dataframe tbody tr th {\n",
              "        vertical-align: top;\n",
              "    }\n",
              "\n",
              "    .dataframe thead th {\n",
              "        text-align: right;\n",
              "    }\n",
              "</style>\n",
              "<table border=\"1\" class=\"dataframe\">\n",
              "  <thead>\n",
              "    <tr style=\"text-align: right;\">\n",
              "      <th></th>\n",
              "      <th>Income</th>\n",
              "      <th>Limit</th>\n",
              "      <th>Rating</th>\n",
              "      <th>Cards</th>\n",
              "      <th>Age</th>\n",
              "      <th>Education</th>\n",
              "      <th>Gender</th>\n",
              "      <th>Student</th>\n",
              "      <th>Married</th>\n",
              "      <th>Ethnicity</th>\n",
              "      <th>Balance</th>\n",
              "    </tr>\n",
              "  </thead>\n",
              "  <tbody>\n",
              "    <tr>\n",
              "      <th>1</th>\n",
              "      <td>14.891</td>\n",
              "      <td>3606</td>\n",
              "      <td>283</td>\n",
              "      <td>2</td>\n",
              "      <td>34</td>\n",
              "      <td>11</td>\n",
              "      <td>Male</td>\n",
              "      <td>No</td>\n",
              "      <td>Yes</td>\n",
              "      <td>Caucasian</td>\n",
              "      <td>333</td>\n",
              "    </tr>\n",
              "    <tr>\n",
              "      <th>2</th>\n",
              "      <td>106.025</td>\n",
              "      <td>6645</td>\n",
              "      <td>483</td>\n",
              "      <td>3</td>\n",
              "      <td>82</td>\n",
              "      <td>15</td>\n",
              "      <td>Female</td>\n",
              "      <td>Yes</td>\n",
              "      <td>Yes</td>\n",
              "      <td>Asian</td>\n",
              "      <td>903</td>\n",
              "    </tr>\n",
              "    <tr>\n",
              "      <th>3</th>\n",
              "      <td>104.593</td>\n",
              "      <td>7075</td>\n",
              "      <td>514</td>\n",
              "      <td>4</td>\n",
              "      <td>71</td>\n",
              "      <td>11</td>\n",
              "      <td>Male</td>\n",
              "      <td>No</td>\n",
              "      <td>No</td>\n",
              "      <td>Asian</td>\n",
              "      <td>580</td>\n",
              "    </tr>\n",
              "    <tr>\n",
              "      <th>4</th>\n",
              "      <td>148.924</td>\n",
              "      <td>9504</td>\n",
              "      <td>681</td>\n",
              "      <td>3</td>\n",
              "      <td>36</td>\n",
              "      <td>11</td>\n",
              "      <td>Female</td>\n",
              "      <td>No</td>\n",
              "      <td>No</td>\n",
              "      <td>Asian</td>\n",
              "      <td>964</td>\n",
              "    </tr>\n",
              "    <tr>\n",
              "      <th>5</th>\n",
              "      <td>55.882</td>\n",
              "      <td>4897</td>\n",
              "      <td>357</td>\n",
              "      <td>2</td>\n",
              "      <td>68</td>\n",
              "      <td>16</td>\n",
              "      <td>Male</td>\n",
              "      <td>No</td>\n",
              "      <td>Yes</td>\n",
              "      <td>Caucasian</td>\n",
              "      <td>331</td>\n",
              "    </tr>\n",
              "  </tbody>\n",
              "</table>\n",
              "</div>"
            ],
            "text/plain": [
              "    Income  Limit  Rating  Cards  ...  Student  Married  Ethnicity Balance\n",
              "1   14.891   3606     283      2  ...       No      Yes  Caucasian     333\n",
              "2  106.025   6645     483      3  ...      Yes      Yes      Asian     903\n",
              "3  104.593   7075     514      4  ...       No       No      Asian     580\n",
              "4  148.924   9504     681      3  ...       No       No      Asian     964\n",
              "5   55.882   4897     357      2  ...       No      Yes  Caucasian     331\n",
              "\n",
              "[5 rows x 11 columns]"
            ]
          },
          "metadata": {
            "tags": []
          },
          "execution_count": 5
        }
      ]
    },
    {
      "cell_type": "code",
      "metadata": {
        "colab": {
          "base_uri": "https://localhost:8080/",
          "height": 294
        },
        "id": "HzXarAAVVIxc",
        "outputId": "f7a2a5ed-941b-413c-dc80-b3c4ecf3b51a"
      },
      "source": [
        "data.describe()"
      ],
      "execution_count": 6,
      "outputs": [
        {
          "output_type": "execute_result",
          "data": {
            "text/html": [
              "<div>\n",
              "<style scoped>\n",
              "    .dataframe tbody tr th:only-of-type {\n",
              "        vertical-align: middle;\n",
              "    }\n",
              "\n",
              "    .dataframe tbody tr th {\n",
              "        vertical-align: top;\n",
              "    }\n",
              "\n",
              "    .dataframe thead th {\n",
              "        text-align: right;\n",
              "    }\n",
              "</style>\n",
              "<table border=\"1\" class=\"dataframe\">\n",
              "  <thead>\n",
              "    <tr style=\"text-align: right;\">\n",
              "      <th></th>\n",
              "      <th>Income</th>\n",
              "      <th>Limit</th>\n",
              "      <th>Rating</th>\n",
              "      <th>Cards</th>\n",
              "      <th>Age</th>\n",
              "      <th>Education</th>\n",
              "      <th>Balance</th>\n",
              "    </tr>\n",
              "  </thead>\n",
              "  <tbody>\n",
              "    <tr>\n",
              "      <th>count</th>\n",
              "      <td>400.000000</td>\n",
              "      <td>400.000000</td>\n",
              "      <td>400.000000</td>\n",
              "      <td>400.000000</td>\n",
              "      <td>400.000000</td>\n",
              "      <td>400.000000</td>\n",
              "      <td>400.000000</td>\n",
              "    </tr>\n",
              "    <tr>\n",
              "      <th>mean</th>\n",
              "      <td>45.218885</td>\n",
              "      <td>4735.600000</td>\n",
              "      <td>354.940000</td>\n",
              "      <td>2.957500</td>\n",
              "      <td>55.667500</td>\n",
              "      <td>13.450000</td>\n",
              "      <td>520.015000</td>\n",
              "    </tr>\n",
              "    <tr>\n",
              "      <th>std</th>\n",
              "      <td>35.244273</td>\n",
              "      <td>2308.198848</td>\n",
              "      <td>154.724143</td>\n",
              "      <td>1.371275</td>\n",
              "      <td>17.249807</td>\n",
              "      <td>3.125207</td>\n",
              "      <td>459.758877</td>\n",
              "    </tr>\n",
              "    <tr>\n",
              "      <th>min</th>\n",
              "      <td>10.354000</td>\n",
              "      <td>855.000000</td>\n",
              "      <td>93.000000</td>\n",
              "      <td>1.000000</td>\n",
              "      <td>23.000000</td>\n",
              "      <td>5.000000</td>\n",
              "      <td>0.000000</td>\n",
              "    </tr>\n",
              "    <tr>\n",
              "      <th>25%</th>\n",
              "      <td>21.007250</td>\n",
              "      <td>3088.000000</td>\n",
              "      <td>247.250000</td>\n",
              "      <td>2.000000</td>\n",
              "      <td>41.750000</td>\n",
              "      <td>11.000000</td>\n",
              "      <td>68.750000</td>\n",
              "    </tr>\n",
              "    <tr>\n",
              "      <th>50%</th>\n",
              "      <td>33.115500</td>\n",
              "      <td>4622.500000</td>\n",
              "      <td>344.000000</td>\n",
              "      <td>3.000000</td>\n",
              "      <td>56.000000</td>\n",
              "      <td>14.000000</td>\n",
              "      <td>459.500000</td>\n",
              "    </tr>\n",
              "    <tr>\n",
              "      <th>75%</th>\n",
              "      <td>57.470750</td>\n",
              "      <td>5872.750000</td>\n",
              "      <td>437.250000</td>\n",
              "      <td>4.000000</td>\n",
              "      <td>70.000000</td>\n",
              "      <td>16.000000</td>\n",
              "      <td>863.000000</td>\n",
              "    </tr>\n",
              "    <tr>\n",
              "      <th>max</th>\n",
              "      <td>186.634000</td>\n",
              "      <td>13913.000000</td>\n",
              "      <td>982.000000</td>\n",
              "      <td>9.000000</td>\n",
              "      <td>98.000000</td>\n",
              "      <td>20.000000</td>\n",
              "      <td>1999.000000</td>\n",
              "    </tr>\n",
              "  </tbody>\n",
              "</table>\n",
              "</div>"
            ],
            "text/plain": [
              "           Income         Limit  ...   Education      Balance\n",
              "count  400.000000    400.000000  ...  400.000000   400.000000\n",
              "mean    45.218885   4735.600000  ...   13.450000   520.015000\n",
              "std     35.244273   2308.198848  ...    3.125207   459.758877\n",
              "min     10.354000    855.000000  ...    5.000000     0.000000\n",
              "25%     21.007250   3088.000000  ...   11.000000    68.750000\n",
              "50%     33.115500   4622.500000  ...   14.000000   459.500000\n",
              "75%     57.470750   5872.750000  ...   16.000000   863.000000\n",
              "max    186.634000  13913.000000  ...   20.000000  1999.000000\n",
              "\n",
              "[8 rows x 7 columns]"
            ]
          },
          "metadata": {
            "tags": []
          },
          "execution_count": 6
        }
      ]
    },
    {
      "cell_type": "code",
      "metadata": {
        "colab": {
          "base_uri": "https://localhost:8080/"
        },
        "id": "_ZcnuajMVhxz",
        "outputId": "57556310-9eb8-45a4-b329-0ed61be016e0"
      },
      "source": [
        "data.shape"
      ],
      "execution_count": 7,
      "outputs": [
        {
          "output_type": "execute_result",
          "data": {
            "text/plain": [
              "(400, 11)"
            ]
          },
          "metadata": {
            "tags": []
          },
          "execution_count": 7
        }
      ]
    },
    {
      "cell_type": "code",
      "metadata": {
        "colab": {
          "base_uri": "https://localhost:8080/"
        },
        "id": "oWPNVIMrVo1H",
        "outputId": "56592a17-fbbf-487d-becc-68e6833e1527"
      },
      "source": [
        "data['Balance'].describe()"
      ],
      "execution_count": 8,
      "outputs": [
        {
          "output_type": "execute_result",
          "data": {
            "text/plain": [
              "count     400.000000\n",
              "mean      520.015000\n",
              "std       459.758877\n",
              "min         0.000000\n",
              "25%        68.750000\n",
              "50%       459.500000\n",
              "75%       863.000000\n",
              "max      1999.000000\n",
              "Name: Balance, dtype: float64"
            ]
          },
          "metadata": {
            "tags": []
          },
          "execution_count": 8
        }
      ]
    },
    {
      "cell_type": "code",
      "metadata": {
        "colab": {
          "base_uri": "https://localhost:8080/"
        },
        "id": "jOYgiivXVtCR",
        "outputId": "ebde501f-ae58-4479-b0e5-2c92b8f930bf"
      },
      "source": [
        "data['Balance'].isnull().sum()  # no null values in Balance ( Target Column)"
      ],
      "execution_count": 10,
      "outputs": [
        {
          "output_type": "execute_result",
          "data": {
            "text/plain": [
              "0"
            ]
          },
          "metadata": {
            "tags": []
          },
          "execution_count": 10
        }
      ]
    },
    {
      "cell_type": "code",
      "metadata": {
        "colab": {
          "base_uri": "https://localhost:8080/"
        },
        "id": "wC8zRDERV1sj",
        "outputId": "5dbed9f8-3b8b-4695-9d2c-36846ad69e46"
      },
      "source": [
        "data.columns"
      ],
      "execution_count": 11,
      "outputs": [
        {
          "output_type": "execute_result",
          "data": {
            "text/plain": [
              "Index(['Income', 'Limit', 'Rating', 'Cards', 'Age', 'Education', 'Gender',\n",
              "       'Student', 'Married', 'Ethnicity', 'Balance'],\n",
              "      dtype='object')"
            ]
          },
          "metadata": {
            "tags": []
          },
          "execution_count": 11
        }
      ]
    },
    {
      "cell_type": "code",
      "metadata": {
        "colab": {
          "base_uri": "https://localhost:8080/"
        },
        "id": "2oBz0Me9V_-r",
        "outputId": "2a20f90a-87d1-48a3-9f0a-0f2fff640213"
      },
      "source": [
        "data.isnull().sum() # There is no null values"
      ],
      "execution_count": 12,
      "outputs": [
        {
          "output_type": "execute_result",
          "data": {
            "text/plain": [
              "Income       0\n",
              "Limit        0\n",
              "Rating       0\n",
              "Cards        0\n",
              "Age          0\n",
              "Education    0\n",
              "Gender       0\n",
              "Student      0\n",
              "Married      0\n",
              "Ethnicity    0\n",
              "Balance      0\n",
              "dtype: int64"
            ]
          },
          "metadata": {
            "tags": []
          },
          "execution_count": 12
        }
      ]
    },
    {
      "cell_type": "code",
      "metadata": {
        "colab": {
          "base_uri": "https://localhost:8080/"
        },
        "id": "DvnkefDWWDAx",
        "outputId": "894280fc-bff9-4bfb-8364-cefe8eb700aa"
      },
      "source": [
        "# We have  Gender , Student , Married , Ethnicity as Categorical Variable \n",
        "# All come under Nominal Categories so we can use Label Encoding \n",
        "data['Student'].value_counts()\n"
      ],
      "execution_count": 16,
      "outputs": [
        {
          "output_type": "execute_result",
          "data": {
            "text/plain": [
              "No     360\n",
              "Yes     40\n",
              "Name: Student, dtype: int64"
            ]
          },
          "metadata": {
            "tags": []
          },
          "execution_count": 16
        }
      ]
    },
    {
      "cell_type": "code",
      "metadata": {
        "colab": {
          "base_uri": "https://localhost:8080/"
        },
        "id": "xZJ4tWZKWQ5n",
        "outputId": "4a02469a-33e7-4a69-87f4-323d1264a15a"
      },
      "source": [
        "data['Married'].value_counts()"
      ],
      "execution_count": 17,
      "outputs": [
        {
          "output_type": "execute_result",
          "data": {
            "text/plain": [
              "Yes    245\n",
              "No     155\n",
              "Name: Married, dtype: int64"
            ]
          },
          "metadata": {
            "tags": []
          },
          "execution_count": 17
        }
      ]
    },
    {
      "cell_type": "code",
      "metadata": {
        "colab": {
          "base_uri": "https://localhost:8080/"
        },
        "id": "cTfkhGCvWoQA",
        "outputId": "f119f064-9f20-4a7d-a902-11eba24b69af"
      },
      "source": [
        "data['Gender'].value_counts()"
      ],
      "execution_count": 18,
      "outputs": [
        {
          "output_type": "execute_result",
          "data": {
            "text/plain": [
              "Female    207\n",
              " Male     193\n",
              "Name: Gender, dtype: int64"
            ]
          },
          "metadata": {
            "tags": []
          },
          "execution_count": 18
        }
      ]
    },
    {
      "cell_type": "code",
      "metadata": {
        "colab": {
          "base_uri": "https://localhost:8080/"
        },
        "id": "AKvW0nRkWu1w",
        "outputId": "c9d6f181-ecb4-40bf-bbf8-f46684afb1e5"
      },
      "source": [
        "data['Ethnicity'].value_counts() "
      ],
      "execution_count": 19,
      "outputs": [
        {
          "output_type": "execute_result",
          "data": {
            "text/plain": [
              "Caucasian           199\n",
              "Asian               102\n",
              "African American     99\n",
              "Name: Ethnicity, dtype: int64"
            ]
          },
          "metadata": {
            "tags": []
          },
          "execution_count": 19
        }
      ]
    },
    {
      "cell_type": "code",
      "metadata": {
        "id": "2ddc2mPxW0PN"
      },
      "source": [
        ""
      ],
      "execution_count": null,
      "outputs": []
    },
    {
      "cell_type": "code",
      "metadata": {
        "colab": {
          "base_uri": "https://localhost:8080/"
        },
        "id": "0mIiJSnDYSna",
        "outputId": "df96566f-fa3a-43d0-df18-48e53a855427"
      },
      "source": [
        "from sklearn import preprocessing\n",
        "label_encoder = preprocessing.LabelEncoder()\n",
        "\n",
        "data['Gender']= label_encoder.fit_transform(data['Gender'])\n",
        "data['Student']= label_encoder.fit_transform(data['Student'])\n",
        "data['Married']= label_encoder.fit_transform(data['Married'])\n"
      ],
      "execution_count": 20,
      "outputs": [
        {
          "output_type": "execute_result",
          "data": {
            "text/plain": [
              "array([0, 1])"
            ]
          },
          "metadata": {
            "tags": []
          },
          "execution_count": 20
        }
      ]
    },
    {
      "cell_type": "code",
      "metadata": {
        "colab": {
          "base_uri": "https://localhost:8080/",
          "height": 202
        },
        "id": "OMztv9dwYdRQ",
        "outputId": "de2c9cad-4022-4192-e5d6-581d6aced2b3"
      },
      "source": [
        "data.head()"
      ],
      "execution_count": 26,
      "outputs": [
        {
          "output_type": "execute_result",
          "data": {
            "text/html": [
              "<div>\n",
              "<style scoped>\n",
              "    .dataframe tbody tr th:only-of-type {\n",
              "        vertical-align: middle;\n",
              "    }\n",
              "\n",
              "    .dataframe tbody tr th {\n",
              "        vertical-align: top;\n",
              "    }\n",
              "\n",
              "    .dataframe thead th {\n",
              "        text-align: right;\n",
              "    }\n",
              "</style>\n",
              "<table border=\"1\" class=\"dataframe\">\n",
              "  <thead>\n",
              "    <tr style=\"text-align: right;\">\n",
              "      <th></th>\n",
              "      <th>Income</th>\n",
              "      <th>Limit</th>\n",
              "      <th>Rating</th>\n",
              "      <th>Cards</th>\n",
              "      <th>Age</th>\n",
              "      <th>Education</th>\n",
              "      <th>Gender</th>\n",
              "      <th>Student</th>\n",
              "      <th>Married</th>\n",
              "      <th>Ethnicity</th>\n",
              "      <th>Balance</th>\n",
              "    </tr>\n",
              "  </thead>\n",
              "  <tbody>\n",
              "    <tr>\n",
              "      <th>1</th>\n",
              "      <td>14.891</td>\n",
              "      <td>3606</td>\n",
              "      <td>283</td>\n",
              "      <td>2</td>\n",
              "      <td>34</td>\n",
              "      <td>11</td>\n",
              "      <td>0</td>\n",
              "      <td>0</td>\n",
              "      <td>1</td>\n",
              "      <td>Caucasian</td>\n",
              "      <td>333</td>\n",
              "    </tr>\n",
              "    <tr>\n",
              "      <th>2</th>\n",
              "      <td>106.025</td>\n",
              "      <td>6645</td>\n",
              "      <td>483</td>\n",
              "      <td>3</td>\n",
              "      <td>82</td>\n",
              "      <td>15</td>\n",
              "      <td>1</td>\n",
              "      <td>1</td>\n",
              "      <td>1</td>\n",
              "      <td>Asian</td>\n",
              "      <td>903</td>\n",
              "    </tr>\n",
              "    <tr>\n",
              "      <th>3</th>\n",
              "      <td>104.593</td>\n",
              "      <td>7075</td>\n",
              "      <td>514</td>\n",
              "      <td>4</td>\n",
              "      <td>71</td>\n",
              "      <td>11</td>\n",
              "      <td>0</td>\n",
              "      <td>0</td>\n",
              "      <td>0</td>\n",
              "      <td>Asian</td>\n",
              "      <td>580</td>\n",
              "    </tr>\n",
              "    <tr>\n",
              "      <th>4</th>\n",
              "      <td>148.924</td>\n",
              "      <td>9504</td>\n",
              "      <td>681</td>\n",
              "      <td>3</td>\n",
              "      <td>36</td>\n",
              "      <td>11</td>\n",
              "      <td>1</td>\n",
              "      <td>0</td>\n",
              "      <td>0</td>\n",
              "      <td>Asian</td>\n",
              "      <td>964</td>\n",
              "    </tr>\n",
              "    <tr>\n",
              "      <th>5</th>\n",
              "      <td>55.882</td>\n",
              "      <td>4897</td>\n",
              "      <td>357</td>\n",
              "      <td>2</td>\n",
              "      <td>68</td>\n",
              "      <td>16</td>\n",
              "      <td>0</td>\n",
              "      <td>0</td>\n",
              "      <td>1</td>\n",
              "      <td>Caucasian</td>\n",
              "      <td>331</td>\n",
              "    </tr>\n",
              "  </tbody>\n",
              "</table>\n",
              "</div>"
            ],
            "text/plain": [
              "    Income  Limit  Rating  Cards  ...  Student  Married  Ethnicity  Balance\n",
              "1   14.891   3606     283      2  ...        0        1  Caucasian      333\n",
              "2  106.025   6645     483      3  ...        1        1      Asian      903\n",
              "3  104.593   7075     514      4  ...        0        0      Asian      580\n",
              "4  148.924   9504     681      3  ...        0        0      Asian      964\n",
              "5   55.882   4897     357      2  ...        0        1  Caucasian      331\n",
              "\n",
              "[5 rows x 11 columns]"
            ]
          },
          "metadata": {
            "tags": []
          },
          "execution_count": 26
        }
      ]
    },
    {
      "cell_type": "code",
      "metadata": {
        "id": "h46Pb70GYlNq"
      },
      "source": [
        ""
      ],
      "execution_count": 25,
      "outputs": []
    },
    {
      "cell_type": "code",
      "metadata": {
        "id": "lsYKG7p-cjw0"
      },
      "source": [
        ""
      ],
      "execution_count": null,
      "outputs": []
    },
    {
      "cell_type": "markdown",
      "metadata": {
        "id": "oYIgApnacmRr"
      },
      "source": [
        "**Checking the mean of Ethnicity Column with different categories**"
      ]
    },
    {
      "cell_type": "code",
      "metadata": {
        "colab": {
          "base_uri": "https://localhost:8080/"
        },
        "id": "RFKWEt0jY2fW",
        "outputId": "391043a1-70a8-46fc-b04e-f3d3618d72d8"
      },
      "source": [
        "data[data['Ethnicity'] == 'Caucasian'][['Balance']].mean()"
      ],
      "execution_count": 30,
      "outputs": [
        {
          "output_type": "execute_result",
          "data": {
            "text/plain": [
              "Balance    518.497487\n",
              "dtype: float64"
            ]
          },
          "metadata": {
            "tags": []
          },
          "execution_count": 30
        }
      ]
    },
    {
      "cell_type": "code",
      "metadata": {
        "colab": {
          "base_uri": "https://localhost:8080/"
        },
        "id": "mkFGL-rfbG90",
        "outputId": "f143a393-551e-45cc-8dbb-d4424503a94c"
      },
      "source": [
        "data[data['Ethnicity'] == 'Asian'][['Balance']].mean()"
      ],
      "execution_count": 31,
      "outputs": [
        {
          "output_type": "execute_result",
          "data": {
            "text/plain": [
              "Balance    512.313725\n",
              "dtype: float64"
            ]
          },
          "metadata": {
            "tags": []
          },
          "execution_count": 31
        }
      ]
    },
    {
      "cell_type": "code",
      "metadata": {
        "colab": {
          "base_uri": "https://localhost:8080/"
        },
        "id": "S5RnzlBNcXow",
        "outputId": "422baf48-e39b-4a70-8033-d983b14349db"
      },
      "source": [
        "\n",
        "data[data['Ethnicity'] == 'African American'][['Balance']].mean()"
      ],
      "execution_count": 34,
      "outputs": [
        {
          "output_type": "execute_result",
          "data": {
            "text/plain": [
              "Balance    531.0\n",
              "dtype: float64"
            ]
          },
          "metadata": {
            "tags": []
          },
          "execution_count": 34
        }
      ]
    },
    {
      "cell_type": "code",
      "metadata": {
        "colab": {
          "base_uri": "https://localhost:8080/",
          "height": 202
        },
        "id": "7XVsxXJ8ceVT",
        "outputId": "cffa4276-2dab-4df3-c769-aaec1951b048"
      },
      "source": [
        "data.head()"
      ],
      "execution_count": 35,
      "outputs": [
        {
          "output_type": "execute_result",
          "data": {
            "text/html": [
              "<div>\n",
              "<style scoped>\n",
              "    .dataframe tbody tr th:only-of-type {\n",
              "        vertical-align: middle;\n",
              "    }\n",
              "\n",
              "    .dataframe tbody tr th {\n",
              "        vertical-align: top;\n",
              "    }\n",
              "\n",
              "    .dataframe thead th {\n",
              "        text-align: right;\n",
              "    }\n",
              "</style>\n",
              "<table border=\"1\" class=\"dataframe\">\n",
              "  <thead>\n",
              "    <tr style=\"text-align: right;\">\n",
              "      <th></th>\n",
              "      <th>Income</th>\n",
              "      <th>Limit</th>\n",
              "      <th>Rating</th>\n",
              "      <th>Cards</th>\n",
              "      <th>Age</th>\n",
              "      <th>Education</th>\n",
              "      <th>Gender</th>\n",
              "      <th>Student</th>\n",
              "      <th>Married</th>\n",
              "      <th>Ethnicity</th>\n",
              "      <th>Balance</th>\n",
              "    </tr>\n",
              "  </thead>\n",
              "  <tbody>\n",
              "    <tr>\n",
              "      <th>1</th>\n",
              "      <td>14.891</td>\n",
              "      <td>3606</td>\n",
              "      <td>283</td>\n",
              "      <td>2</td>\n",
              "      <td>34</td>\n",
              "      <td>11</td>\n",
              "      <td>0</td>\n",
              "      <td>0</td>\n",
              "      <td>1</td>\n",
              "      <td>Caucasian</td>\n",
              "      <td>333</td>\n",
              "    </tr>\n",
              "    <tr>\n",
              "      <th>2</th>\n",
              "      <td>106.025</td>\n",
              "      <td>6645</td>\n",
              "      <td>483</td>\n",
              "      <td>3</td>\n",
              "      <td>82</td>\n",
              "      <td>15</td>\n",
              "      <td>1</td>\n",
              "      <td>1</td>\n",
              "      <td>1</td>\n",
              "      <td>Asian</td>\n",
              "      <td>903</td>\n",
              "    </tr>\n",
              "    <tr>\n",
              "      <th>3</th>\n",
              "      <td>104.593</td>\n",
              "      <td>7075</td>\n",
              "      <td>514</td>\n",
              "      <td>4</td>\n",
              "      <td>71</td>\n",
              "      <td>11</td>\n",
              "      <td>0</td>\n",
              "      <td>0</td>\n",
              "      <td>0</td>\n",
              "      <td>Asian</td>\n",
              "      <td>580</td>\n",
              "    </tr>\n",
              "    <tr>\n",
              "      <th>4</th>\n",
              "      <td>148.924</td>\n",
              "      <td>9504</td>\n",
              "      <td>681</td>\n",
              "      <td>3</td>\n",
              "      <td>36</td>\n",
              "      <td>11</td>\n",
              "      <td>1</td>\n",
              "      <td>0</td>\n",
              "      <td>0</td>\n",
              "      <td>Asian</td>\n",
              "      <td>964</td>\n",
              "    </tr>\n",
              "    <tr>\n",
              "      <th>5</th>\n",
              "      <td>55.882</td>\n",
              "      <td>4897</td>\n",
              "      <td>357</td>\n",
              "      <td>2</td>\n",
              "      <td>68</td>\n",
              "      <td>16</td>\n",
              "      <td>0</td>\n",
              "      <td>0</td>\n",
              "      <td>1</td>\n",
              "      <td>Caucasian</td>\n",
              "      <td>331</td>\n",
              "    </tr>\n",
              "  </tbody>\n",
              "</table>\n",
              "</div>"
            ],
            "text/plain": [
              "    Income  Limit  Rating  Cards  ...  Student  Married  Ethnicity  Balance\n",
              "1   14.891   3606     283      2  ...        0        1  Caucasian      333\n",
              "2  106.025   6645     483      3  ...        1        1      Asian      903\n",
              "3  104.593   7075     514      4  ...        0        0      Asian      580\n",
              "4  148.924   9504     681      3  ...        0        0      Asian      964\n",
              "5   55.882   4897     357      2  ...        0        1  Caucasian      331\n",
              "\n",
              "[5 rows x 11 columns]"
            ]
          },
          "metadata": {
            "tags": []
          },
          "execution_count": 35
        }
      ]
    },
    {
      "cell_type": "code",
      "metadata": {
        "colab": {
          "base_uri": "https://localhost:8080/",
          "height": 171
        },
        "id": "ZK-lp-Mtc7tl",
        "outputId": "39ddcd8e-3242-49f0-c702-75a3a161f767"
      },
      "source": [
        "data.groupby('Ethnicity').Balance.agg(['count','min','max','mean'])"
      ],
      "execution_count": 39,
      "outputs": [
        {
          "output_type": "execute_result",
          "data": {
            "text/html": [
              "<div>\n",
              "<style scoped>\n",
              "    .dataframe tbody tr th:only-of-type {\n",
              "        vertical-align: middle;\n",
              "    }\n",
              "\n",
              "    .dataframe tbody tr th {\n",
              "        vertical-align: top;\n",
              "    }\n",
              "\n",
              "    .dataframe thead th {\n",
              "        text-align: right;\n",
              "    }\n",
              "</style>\n",
              "<table border=\"1\" class=\"dataframe\">\n",
              "  <thead>\n",
              "    <tr style=\"text-align: right;\">\n",
              "      <th></th>\n",
              "      <th>count</th>\n",
              "      <th>min</th>\n",
              "      <th>max</th>\n",
              "      <th>mean</th>\n",
              "    </tr>\n",
              "    <tr>\n",
              "      <th>Ethnicity</th>\n",
              "      <th></th>\n",
              "      <th></th>\n",
              "      <th></th>\n",
              "      <th></th>\n",
              "    </tr>\n",
              "  </thead>\n",
              "  <tbody>\n",
              "    <tr>\n",
              "      <th>African American</th>\n",
              "      <td>99</td>\n",
              "      <td>0</td>\n",
              "      <td>1809</td>\n",
              "      <td>531.000000</td>\n",
              "    </tr>\n",
              "    <tr>\n",
              "      <th>Asian</th>\n",
              "      <td>102</td>\n",
              "      <td>0</td>\n",
              "      <td>1779</td>\n",
              "      <td>512.313725</td>\n",
              "    </tr>\n",
              "    <tr>\n",
              "      <th>Caucasian</th>\n",
              "      <td>199</td>\n",
              "      <td>0</td>\n",
              "      <td>1999</td>\n",
              "      <td>518.497487</td>\n",
              "    </tr>\n",
              "  </tbody>\n",
              "</table>\n",
              "</div>"
            ],
            "text/plain": [
              "                  count  min   max        mean\n",
              "Ethnicity                                     \n",
              "African American     99    0  1809  531.000000\n",
              "Asian               102    0  1779  512.313725\n",
              "Caucasian           199    0  1999  518.497487"
            ]
          },
          "metadata": {
            "tags": []
          },
          "execution_count": 39
        }
      ]
    },
    {
      "cell_type": "code",
      "metadata": {
        "id": "nXRcOd6CdypB"
      },
      "source": [
        ""
      ],
      "execution_count": null,
      "outputs": []
    },
    {
      "cell_type": "code",
      "metadata": {
        "id": "usxsWQGfeKSc"
      },
      "source": [
        ""
      ],
      "execution_count": null,
      "outputs": []
    },
    {
      "cell_type": "code",
      "metadata": {
        "id": "TVl7hk_GeSlJ"
      },
      "source": [
        "df_processed = pd.get_dummies(data, prefix_sep=\"_\",\n",
        "                              columns=['Ethnicity'])"
      ],
      "execution_count": 51,
      "outputs": []
    },
    {
      "cell_type": "code",
      "metadata": {
        "colab": {
          "base_uri": "https://localhost:8080/",
          "height": 202
        },
        "id": "pJsL10EpfWYp",
        "outputId": "6db48946-5f89-4a5b-f680-92f193a137a0"
      },
      "source": [
        "df_processed.head()"
      ],
      "execution_count": 53,
      "outputs": [
        {
          "output_type": "execute_result",
          "data": {
            "text/html": [
              "<div>\n",
              "<style scoped>\n",
              "    .dataframe tbody tr th:only-of-type {\n",
              "        vertical-align: middle;\n",
              "    }\n",
              "\n",
              "    .dataframe tbody tr th {\n",
              "        vertical-align: top;\n",
              "    }\n",
              "\n",
              "    .dataframe thead th {\n",
              "        text-align: right;\n",
              "    }\n",
              "</style>\n",
              "<table border=\"1\" class=\"dataframe\">\n",
              "  <thead>\n",
              "    <tr style=\"text-align: right;\">\n",
              "      <th></th>\n",
              "      <th>Income</th>\n",
              "      <th>Limit</th>\n",
              "      <th>Rating</th>\n",
              "      <th>Cards</th>\n",
              "      <th>Age</th>\n",
              "      <th>Education</th>\n",
              "      <th>Gender</th>\n",
              "      <th>Student</th>\n",
              "      <th>Married</th>\n",
              "      <th>Balance</th>\n",
              "      <th>Ethnicity_African American</th>\n",
              "      <th>Ethnicity_Asian</th>\n",
              "      <th>Ethnicity_Caucasian</th>\n",
              "    </tr>\n",
              "  </thead>\n",
              "  <tbody>\n",
              "    <tr>\n",
              "      <th>1</th>\n",
              "      <td>14.891</td>\n",
              "      <td>3606</td>\n",
              "      <td>283</td>\n",
              "      <td>2</td>\n",
              "      <td>34</td>\n",
              "      <td>11</td>\n",
              "      <td>0</td>\n",
              "      <td>0</td>\n",
              "      <td>1</td>\n",
              "      <td>333</td>\n",
              "      <td>0</td>\n",
              "      <td>0</td>\n",
              "      <td>1</td>\n",
              "    </tr>\n",
              "    <tr>\n",
              "      <th>2</th>\n",
              "      <td>106.025</td>\n",
              "      <td>6645</td>\n",
              "      <td>483</td>\n",
              "      <td>3</td>\n",
              "      <td>82</td>\n",
              "      <td>15</td>\n",
              "      <td>1</td>\n",
              "      <td>1</td>\n",
              "      <td>1</td>\n",
              "      <td>903</td>\n",
              "      <td>0</td>\n",
              "      <td>1</td>\n",
              "      <td>0</td>\n",
              "    </tr>\n",
              "    <tr>\n",
              "      <th>3</th>\n",
              "      <td>104.593</td>\n",
              "      <td>7075</td>\n",
              "      <td>514</td>\n",
              "      <td>4</td>\n",
              "      <td>71</td>\n",
              "      <td>11</td>\n",
              "      <td>0</td>\n",
              "      <td>0</td>\n",
              "      <td>0</td>\n",
              "      <td>580</td>\n",
              "      <td>0</td>\n",
              "      <td>1</td>\n",
              "      <td>0</td>\n",
              "    </tr>\n",
              "    <tr>\n",
              "      <th>4</th>\n",
              "      <td>148.924</td>\n",
              "      <td>9504</td>\n",
              "      <td>681</td>\n",
              "      <td>3</td>\n",
              "      <td>36</td>\n",
              "      <td>11</td>\n",
              "      <td>1</td>\n",
              "      <td>0</td>\n",
              "      <td>0</td>\n",
              "      <td>964</td>\n",
              "      <td>0</td>\n",
              "      <td>1</td>\n",
              "      <td>0</td>\n",
              "    </tr>\n",
              "    <tr>\n",
              "      <th>5</th>\n",
              "      <td>55.882</td>\n",
              "      <td>4897</td>\n",
              "      <td>357</td>\n",
              "      <td>2</td>\n",
              "      <td>68</td>\n",
              "      <td>16</td>\n",
              "      <td>0</td>\n",
              "      <td>0</td>\n",
              "      <td>1</td>\n",
              "      <td>331</td>\n",
              "      <td>0</td>\n",
              "      <td>0</td>\n",
              "      <td>1</td>\n",
              "    </tr>\n",
              "  </tbody>\n",
              "</table>\n",
              "</div>"
            ],
            "text/plain": [
              "    Income  Limit  ...  Ethnicity_Asian  Ethnicity_Caucasian\n",
              "1   14.891   3606  ...                0                    1\n",
              "2  106.025   6645  ...                1                    0\n",
              "3  104.593   7075  ...                1                    0\n",
              "4  148.924   9504  ...                1                    0\n",
              "5   55.882   4897  ...                0                    1\n",
              "\n",
              "[5 rows x 13 columns]"
            ]
          },
          "metadata": {
            "tags": []
          },
          "execution_count": 53
        }
      ]
    },
    {
      "cell_type": "code",
      "metadata": {
        "id": "SkuJg-QYf5ST"
      },
      "source": [
        "x = df_processed.drop('Balance',axis=1)\n",
        "y = data['Balance']\n"
      ],
      "execution_count": 63,
      "outputs": []
    },
    {
      "cell_type": "code",
      "metadata": {
        "colab": {
          "base_uri": "https://localhost:8080/"
        },
        "id": "f3N6uN3vgLr2",
        "outputId": "7de2ffc8-743b-40f1-902f-8e7792e1db3e"
      },
      "source": [
        "y.head()"
      ],
      "execution_count": 64,
      "outputs": [
        {
          "output_type": "execute_result",
          "data": {
            "text/plain": [
              "1    333\n",
              "2    903\n",
              "3    580\n",
              "4    964\n",
              "5    331\n",
              "Name: Balance, dtype: int64"
            ]
          },
          "metadata": {
            "tags": []
          },
          "execution_count": 64
        }
      ]
    },
    {
      "cell_type": "code",
      "metadata": {
        "colab": {
          "base_uri": "https://localhost:8080/",
          "height": 202
        },
        "id": "XnsR0JcEgX-g",
        "outputId": "13d99432-8ae4-4baf-8aa8-b50e8f190d48"
      },
      "source": [
        "x.head()"
      ],
      "execution_count": 65,
      "outputs": [
        {
          "output_type": "execute_result",
          "data": {
            "text/html": [
              "<div>\n",
              "<style scoped>\n",
              "    .dataframe tbody tr th:only-of-type {\n",
              "        vertical-align: middle;\n",
              "    }\n",
              "\n",
              "    .dataframe tbody tr th {\n",
              "        vertical-align: top;\n",
              "    }\n",
              "\n",
              "    .dataframe thead th {\n",
              "        text-align: right;\n",
              "    }\n",
              "</style>\n",
              "<table border=\"1\" class=\"dataframe\">\n",
              "  <thead>\n",
              "    <tr style=\"text-align: right;\">\n",
              "      <th></th>\n",
              "      <th>Income</th>\n",
              "      <th>Limit</th>\n",
              "      <th>Rating</th>\n",
              "      <th>Cards</th>\n",
              "      <th>Age</th>\n",
              "      <th>Education</th>\n",
              "      <th>Gender</th>\n",
              "      <th>Student</th>\n",
              "      <th>Married</th>\n",
              "      <th>Ethnicity_African American</th>\n",
              "      <th>Ethnicity_Asian</th>\n",
              "      <th>Ethnicity_Caucasian</th>\n",
              "    </tr>\n",
              "  </thead>\n",
              "  <tbody>\n",
              "    <tr>\n",
              "      <th>1</th>\n",
              "      <td>14.891</td>\n",
              "      <td>3606</td>\n",
              "      <td>283</td>\n",
              "      <td>2</td>\n",
              "      <td>34</td>\n",
              "      <td>11</td>\n",
              "      <td>0</td>\n",
              "      <td>0</td>\n",
              "      <td>1</td>\n",
              "      <td>0</td>\n",
              "      <td>0</td>\n",
              "      <td>1</td>\n",
              "    </tr>\n",
              "    <tr>\n",
              "      <th>2</th>\n",
              "      <td>106.025</td>\n",
              "      <td>6645</td>\n",
              "      <td>483</td>\n",
              "      <td>3</td>\n",
              "      <td>82</td>\n",
              "      <td>15</td>\n",
              "      <td>1</td>\n",
              "      <td>1</td>\n",
              "      <td>1</td>\n",
              "      <td>0</td>\n",
              "      <td>1</td>\n",
              "      <td>0</td>\n",
              "    </tr>\n",
              "    <tr>\n",
              "      <th>3</th>\n",
              "      <td>104.593</td>\n",
              "      <td>7075</td>\n",
              "      <td>514</td>\n",
              "      <td>4</td>\n",
              "      <td>71</td>\n",
              "      <td>11</td>\n",
              "      <td>0</td>\n",
              "      <td>0</td>\n",
              "      <td>0</td>\n",
              "      <td>0</td>\n",
              "      <td>1</td>\n",
              "      <td>0</td>\n",
              "    </tr>\n",
              "    <tr>\n",
              "      <th>4</th>\n",
              "      <td>148.924</td>\n",
              "      <td>9504</td>\n",
              "      <td>681</td>\n",
              "      <td>3</td>\n",
              "      <td>36</td>\n",
              "      <td>11</td>\n",
              "      <td>1</td>\n",
              "      <td>0</td>\n",
              "      <td>0</td>\n",
              "      <td>0</td>\n",
              "      <td>1</td>\n",
              "      <td>0</td>\n",
              "    </tr>\n",
              "    <tr>\n",
              "      <th>5</th>\n",
              "      <td>55.882</td>\n",
              "      <td>4897</td>\n",
              "      <td>357</td>\n",
              "      <td>2</td>\n",
              "      <td>68</td>\n",
              "      <td>16</td>\n",
              "      <td>0</td>\n",
              "      <td>0</td>\n",
              "      <td>1</td>\n",
              "      <td>0</td>\n",
              "      <td>0</td>\n",
              "      <td>1</td>\n",
              "    </tr>\n",
              "  </tbody>\n",
              "</table>\n",
              "</div>"
            ],
            "text/plain": [
              "    Income  Limit  ...  Ethnicity_Asian  Ethnicity_Caucasian\n",
              "1   14.891   3606  ...                0                    1\n",
              "2  106.025   6645  ...                1                    0\n",
              "3  104.593   7075  ...                1                    0\n",
              "4  148.924   9504  ...                1                    0\n",
              "5   55.882   4897  ...                0                    1\n",
              "\n",
              "[5 rows x 12 columns]"
            ]
          },
          "metadata": {
            "tags": []
          },
          "execution_count": 65
        }
      ]
    },
    {
      "cell_type": "code",
      "metadata": {
        "colab": {
          "base_uri": "https://localhost:8080/"
        },
        "id": "0MrHAoKFghb_",
        "outputId": "839a1524-5448-428c-d7d9-d979a118989f"
      },
      "source": [
        "from sklearn.datasets import make_blobs\n",
        "from sklearn.model_selection import train_test_split\n",
        "# split into train test sets\n",
        "X_train, X_test, y_train, y_test = train_test_split(x, y, test_size=0.2)\n",
        "print(X_train.shape, X_test.shape, y_train.shape, y_test.shape)"
      ],
      "execution_count": 66,
      "outputs": [
        {
          "output_type": "stream",
          "text": [
            "(320, 12) (80, 12) (320,) (80,)\n"
          ],
          "name": "stdout"
        }
      ]
    },
    {
      "cell_type": "markdown",
      "metadata": {
        "id": "fGoib7PAjpui"
      },
      "source": [
        "**Linear Regression**"
      ]
    },
    {
      "cell_type": "code",
      "metadata": {
        "colab": {
          "base_uri": "https://localhost:8080/",
          "height": 296
        },
        "id": "lUQY0mGqg2T5",
        "outputId": "73dff3ec-0e23-4007-9f83-9ddc52380236"
      },
      "source": [
        "from sklearn.linear_model import LinearRegression\n",
        "LR = LinearRegression()\n",
        "LR.fit(X_train,y_train)\n",
        "\n",
        "predictions = LR.predict(X_test)\n",
        "\n",
        "\n",
        "plt.scatter(y_test,predictions)\n",
        "plt.xlabel('Y Test')\n",
        "plt.ylabel('Predicted Y')\n",
        "\n",
        "\n",
        "\n"
      ],
      "execution_count": 67,
      "outputs": [
        {
          "output_type": "execute_result",
          "data": {
            "text/plain": [
              "Text(0, 0.5, 'Predicted Y')"
            ]
          },
          "metadata": {
            "tags": []
          },
          "execution_count": 67
        },
        {
          "output_type": "display_data",
          "data": {
            "image/png": "[encoded data removed]",
            "text/plain": [
              "<Figure size 432x288 with 1 Axes>"
            ]
          },
          "metadata": {
            "tags": [],
            "needs_background": "light"
          }
        }
      ]
    },
    {
      "cell_type": "code",
      "metadata": {
        "colab": {
          "base_uri": "https://localhost:8080/"
        },
        "id": "pPBjF42bhboO",
        "outputId": "6793acbf-a265-4257-e27f-ae427131bf6a"
      },
      "source": [
        "\n",
        "from sklearn import metrics\n",
        "\n",
        "print('MAE:', metrics.mean_absolute_error(y_test, predictions))\n",
        "print('MSE:', metrics.mean_squared_error(y_test, predictions))\n",
        "print('RMSE:', np.sqrt(metrics.mean_squared_error(y_test, predictions)))"
      ],
      "execution_count": 68,
      "outputs": [
        {
          "output_type": "stream",
          "text": [
            "MAE: 79.3600313200823\n",
            "MSE: 9368.839406319037\n",
            "RMSE: 96.79276525814849\n"
          ],
          "name": "stdout"
        }
      ]
    },
    {
      "cell_type": "code",
      "metadata": {
        "id": "rhBVODYeh4Os"
      },
      "source": [
        ""
      ],
      "execution_count": null,
      "outputs": []
    },
    {
      "cell_type": "code",
      "metadata": {
        "id": "cqXToyOuh9Bt"
      },
      "source": [
        ""
      ],
      "execution_count": null,
      "outputs": []
    },
    {
      "cell_type": "markdown",
      "metadata": {
        "id": "nc4PI861jldK"
      },
      "source": [
        "**Decision Tree Regressor**"
      ]
    },
    {
      "cell_type": "code",
      "metadata": {
        "id": "_ZIa194Th9Ej"
      },
      "source": [
        "from sklearn.tree import DecisionTreeRegressor\n",
        "from sklearn.metrics import accuracy_score\n",
        "from sklearn import tree\n",
        "from sklearn.metrics import r2_score,mean_squared_error"
      ],
      "execution_count": 78,
      "outputs": []
    },
    {
      "cell_type": "code",
      "metadata": {
        "colab": {
          "base_uri": "https://localhost:8080/"
        },
        "id": "6M9pLB0niQ7Y",
        "outputId": "f42a55b5-e863-4bb9-9416-811b9c2c694c"
      },
      "source": [
        "DecisionTreeRegModel = DecisionTreeRegressor()\n",
        "DecisionTreeRegModel.fit(X_train,y_train)"
      ],
      "execution_count": 75,
      "outputs": [
        {
          "output_type": "execute_result",
          "data": {
            "text/plain": [
              "DecisionTreeRegressor(ccp_alpha=0.0, criterion='mse', max_depth=None,\n",
              "                      max_features=None, max_leaf_nodes=None,\n",
              "                      min_impurity_decrease=0.0, min_impurity_split=None,\n",
              "                      min_samples_leaf=1, min_samples_split=2,\n",
              "                      min_weight_fraction_leaf=0.0, presort='deprecated',\n",
              "                      random_state=None, splitter='best')"
            ]
          },
          "metadata": {
            "tags": []
          },
          "execution_count": 75
        }
      ]
    },
    {
      "cell_type": "code",
      "metadata": {
        "id": "D47Gq50liTFp"
      },
      "source": [
        "y_pred = DecisionTreeRegModel.predict(X_test)"
      ],
      "execution_count": 76,
      "outputs": []
    },
    {
      "cell_type": "code",
      "metadata": {
        "colab": {
          "base_uri": "https://localhost:8080/"
        },
        "id": "3ERefRY0i0is",
        "outputId": "5f5e7232-476f-4fe8-bf1e-f6fa24ba9994"
      },
      "source": [
        "r2 = r2_score(y_test, y_pred)\n",
        "\n",
        "mse = mean_squared_error(y_test, y_pred)\n",
        "\n",
        "rmse = np.sqrt(mse)\n",
        "\n",
        "print('R2:', r2)\n",
        "print('MSE:', mse)\n",
        "print('RMSE:', rmse)"
      ],
      "execution_count": 80,
      "outputs": [
        {
          "output_type": "stream",
          "text": [
            "R2: 0.7757649579789901\n",
            "MSE: 46180.225\n",
            "RMSE: 214.89584686540593\n"
          ],
          "name": "stdout"
        }
      ]
    },
    {
      "cell_type": "code",
      "metadata": {
        "id": "rY_wj9ayqJR3"
      },
      "source": [
        ""
      ],
      "execution_count": null,
      "outputs": []
    },
    {
      "cell_type": "markdown",
      "metadata": {
        "id": "3BQNCF9wqKAk"
      },
      "source": [
        "**H2O**"
      ]
    },
    {
      "cell_type": "code",
      "metadata": {
        "id": "IimPL04Ki3HD"
      },
      "source": [
        ""
      ],
      "execution_count": null,
      "outputs": []
    },
    {
      "cell_type": "code",
      "metadata": {
        "colab": {
          "base_uri": "https://localhost:8080/"
        },
        "id": "OH3WqFlIjsqS",
        "outputId": "6e6d0ff1-3c47-4aa5-db17-62dc91777412"
      },
      "source": [
        "!pip install h2o # https://pypi.org/project/h2o/"
      ],
      "execution_count": 82,
      "outputs": [
        {
          "output_type": "stream",
          "text": [
            "Collecting h2o\n",
            "\u001b[?25l  Downloading https://files.pythonhosted.org/packages/23/c9/f24bbb8e7a57097f12c7bef3d277641eddf5160688e442d0eb1b41bf6a67/h2o-3.32.1.3.tar.gz (164.8MB)\n",
            "\u001b[K     |████████████████████████████████| 164.8MB 78kB/s \n",
            "\u001b[?25hRequirement already satisfied: requests in /usr/local/lib/python3.7/dist-packages (from h2o) (2.23.0)\n",
            "Requirement already satisfied: tabulate in /usr/local/lib/python3.7/dist-packages (from h2o) (0.8.9)\n",
            "Requirement already satisfied: future in /usr/local/lib/python3.7/dist-packages (from h2o) (0.16.0)\n",
            "Collecting colorama>=0.3.8\n",
            "  Downloading https://files.pythonhosted.org/packages/44/98/5b86278fbbf250d239ae0ecb724f8572af1c91f4a11edf4d36a206189440/colorama-0.4.4-py2.py3-none-any.whl\n",
            "Requirement already satisfied: urllib3!=1.25.0,!=1.25.1,<1.26,>=1.21.1 in /usr/local/lib/python3.7/dist-packages (from requests->h2o) (1.24.3)\n",
            "Requirement already satisfied: idna<3,>=2.5 in /usr/local/lib/python3.7/dist-packages (from requests->h2o) (2.10)\n",
            "Requirement already satisfied: chardet<4,>=3.0.2 in /usr/local/lib/python3.7/dist-packages (from requests->h2o) (3.0.4)\n",
            "Requirement already satisfied: certifi>=2017.4.17 in /usr/local/lib/python3.7/dist-packages (from requests->h2o) (2021.5.30)\n",
            "Building wheels for collected packages: h2o\n",
            "  Building wheel for h2o (setup.py) ... \u001b[?25l\u001b[?25hdone\n",
            "  Created wheel for h2o: filename=h2o-3.32.1.3-py2.py3-none-any.whl size=164854343 sha256=3449be1a3bed8f37419a0204df5d219bbf30246d2d6f8661ad86b031c549fc71\n",
            "  Stored in directory: /root/.cache/pip/wheels/4f/bb/82/0988682f9abd0b5e95109a4aae6793dd427173b6dc671d9252\n",
            "Successfully built h2o\n",
            "Installing collected packages: colorama, h2o\n",
            "Successfully installed colorama-0.4.4 h2o-3.32.1.3\n"
          ],
          "name": "stdout"
        }
      ]
    },
    {
      "cell_type": "code",
      "metadata": {
        "colab": {
          "base_uri": "https://localhost:8080/",
          "height": 514
        },
        "id": "fNSMMJnZjss9",
        "outputId": "b8531fc4-8d6c-47ed-e2ee-ba3803c83348"
      },
      "source": [
        "import h2o\n",
        "from h2o.automl import H2OAutoML\n",
        "h2o.init()"
      ],
      "execution_count": 83,
      "outputs": [
        {
          "output_type": "stream",
          "text": [
            "Checking whether there is an H2O instance running at http://localhost:54321 ..... not found.\n",
            "Attempting to start a local H2O server...\n",
            "  Java Version: openjdk version \"11.0.11\" 2021-04-20; OpenJDK Runtime Environment (build 11.0.11+9-Ubuntu-0ubuntu2.18.04); OpenJDK 64-Bit Server VM (build 11.0.11+9-Ubuntu-0ubuntu2.18.04, mixed mode, sharing)\n",
            "  Starting server from /usr/local/lib/python3.7/dist-packages/h2o/backend/bin/h2o.jar\n",
            "  Ice root: /tmp/tmp7kllqiiz\n",
            "  JVM stdout: /tmp/tmp7kllqiiz/h2o_unknownUser_started_from_python.out\n",
            "  JVM stderr: /tmp/tmp7kllqiiz/h2o_unknownUser_started_from_python.err\n",
            "  Server is running at http://127.0.0.1:54321\n",
            "Connecting to H2O server at http://127.0.0.1:54321 ... successful.\n"
          ],
          "name": "stdout"
        },
        {
          "output_type": "display_data",
          "data": {
            "text/html": [
              "<div style=\"overflow:auto\"><table style=\"width:50%\"><tr><td>H2O_cluster_uptime:</td>\n",
              "<td>03 secs</td></tr>\n",
              "<tr><td>H2O_cluster_timezone:</td>\n",
              "<td>Etc/UTC</td></tr>\n",
              "<tr><td>H2O_data_parsing_timezone:</td>\n",
              "<td>UTC</td></tr>\n",
              "<tr><td>H2O_cluster_version:</td>\n",
              "<td>3.32.1.3</td></tr>\n",
              "<tr><td>H2O_cluster_version_age:</td>\n",
              "<td>1 month and 1 day </td></tr>\n",
              "<tr><td>H2O_cluster_name:</td>\n",
              "<td>H2O_from_python_unknownUser_39d4q2</td></tr>\n",
              "<tr><td>H2O_cluster_total_nodes:</td>\n",
              "<td>1</td></tr>\n",
              "<tr><td>H2O_cluster_free_memory:</td>\n",
              "<td>3.174 Gb</td></tr>\n",
              "<tr><td>H2O_cluster_total_cores:</td>\n",
              "<td>2</td></tr>\n",
              "<tr><td>H2O_cluster_allowed_cores:</td>\n",
              "<td>2</td></tr>\n",
              "<tr><td>H2O_cluster_status:</td>\n",
              "<td>accepting new members, healthy</td></tr>\n",
              "<tr><td>H2O_connection_url:</td>\n",
              "<td>http://127.0.0.1:54321</td></tr>\n",
              "<tr><td>H2O_connection_proxy:</td>\n",
              "<td>{\"http\": null, \"https\": null}</td></tr>\n",
              "<tr><td>H2O_internal_security:</td>\n",
              "<td>False</td></tr>\n",
              "<tr><td>H2O_API_Extensions:</td>\n",
              "<td>Amazon S3, XGBoost, Algos, AutoML, Core V3, TargetEncoder, Core V4</td></tr>\n",
              "<tr><td>Python_version:</td>\n",
              "<td>3.7.10 final</td></tr></table></div>"
            ],
            "text/plain": [
              "--------------------------  ------------------------------------------------------------------\n",
              "H2O_cluster_uptime:         03 secs\n",
              "H2O_cluster_timezone:       Etc/UTC\n",
              "H2O_data_parsing_timezone:  UTC\n",
              "H2O_cluster_version:        3.32.1.3\n",
              "H2O_cluster_version_age:    1 month and 1 day\n",
              "H2O_cluster_name:           H2O_from_python_unknownUser_39d4q2\n",
              "H2O_cluster_total_nodes:    1\n",
              "H2O_cluster_free_memory:    3.174 Gb\n",
              "H2O_cluster_total_cores:    2\n",
              "H2O_cluster_allowed_cores:  2\n",
              "H2O_cluster_status:         accepting new members, healthy\n",
              "H2O_connection_url:         http://127.0.0.1:54321\n",
              "H2O_connection_proxy:       {\"http\": null, \"https\": null}\n",
              "H2O_internal_security:      False\n",
              "H2O_API_Extensions:         Amazon S3, XGBoost, Algos, AutoML, Core V3, TargetEncoder, Core V4\n",
              "Python_version:             3.7.10 final\n",
              "--------------------------  ------------------------------------------------------------------"
            ]
          },
          "metadata": {
            "tags": []
          }
        }
      ]
    },
    {
      "cell_type": "code",
      "metadata": {
        "colab": {
          "base_uri": "https://localhost:8080/"
        },
        "id": "N0oNPY4rj7KD",
        "outputId": "d469f83d-4d7f-46d2-eaf5-43be8ee1a5f7"
      },
      "source": [
        "df = pd.read_csv('balance.txt', sep=\",\",index_col=[0])\n",
        "df.to_csv('Balance.csv')\n",
        "df = h2o.import_file('/content/Credit-Card-Balance/Balance.csv')"
      ],
      "execution_count": 86,
      "outputs": [
        {
          "output_type": "stream",
          "text": [
            "Parse progress: |█████████████████████████████████████████████████████████| 100%\n"
          ],
          "name": "stdout"
        }
      ]
    },
    {
      "cell_type": "code",
      "metadata": {
        "colab": {
          "base_uri": "https://localhost:8080/",
          "height": 497
        },
        "id": "YcPfhT2tksT6",
        "outputId": "e6181274-e199-484e-ebb4-861a647cc179"
      },
      "source": [
        "df.describe()"
      ],
      "execution_count": 87,
      "outputs": [
        {
          "output_type": "stream",
          "text": [
            "Rows:400\n",
            "Cols:12\n",
            "\n",
            "\n"
          ],
          "name": "stdout"
        },
        {
          "output_type": "display_data",
          "data": {
            "text/html": [
              "<table>\n",
              "<thead>\n",
              "<tr><th>       </th><th>C1                </th><th>Income            </th><th>Limit             </th><th>Rating            </th><th>Cards             </th><th>Age              </th><th>Education         </th><th>Gender  </th><th>Student  </th><th>Married  </th><th>Ethnicity       </th><th>Balance           </th></tr>\n",
              "</thead>\n",
              "<tbody>\n",
              "<tr><td>type   </td><td>int               </td><td>real              </td><td>int               </td><td>int               </td><td>int               </td><td>int              </td><td>int               </td><td>enum    </td><td>enum     </td><td>enum     </td><td>enum            </td><td>int               </td></tr>\n",
              "<tr><td>mins   </td><td>1.0               </td><td>10.354            </td><td>855.0             </td><td>93.0              </td><td>1.0               </td><td>23.0             </td><td>5.0               </td><td>        </td><td>         </td><td>         </td><td>                </td><td>0.0               </td></tr>\n",
              "<tr><td>mean   </td><td>200.5             </td><td>45.21888499999999 </td><td>4735.599999999997 </td><td>354.94            </td><td>2.957500000000001 </td><td>55.66750000000002</td><td>13.449999999999998</td><td>        </td><td>         </td><td>         </td><td>                </td><td>520.0150000000002 </td></tr>\n",
              "<tr><td>maxs   </td><td>400.0             </td><td>186.634           </td><td>13913.0           </td><td>982.0             </td><td>9.0               </td><td>98.0             </td><td>20.0              </td><td>        </td><td>         </td><td>         </td><td>                </td><td>1999.0            </td></tr>\n",
              "<tr><td>sigma  </td><td>115.61430130683084</td><td>35.244273165070524</td><td>2308.1988475431444</td><td>154.72414259174894</td><td>1.3712748582403547</td><td>17.24980676220268</td><td>3.1252067600773348</td><td>        </td><td>         </td><td>         </td><td>                </td><td>459.75887738938314</td></tr>\n",
              "<tr><td>zeros  </td><td>0                 </td><td>0                 </td><td>0                 </td><td>0                 </td><td>0                 </td><td>0                </td><td>0                 </td><td>        </td><td>         </td><td>         </td><td>                </td><td>90                </td></tr>\n",
              "<tr><td>missing</td><td>0                 </td><td>0                 </td><td>0                 </td><td>0                 </td><td>0                 </td><td>0                </td><td>0                 </td><td>0       </td><td>0        </td><td>0        </td><td>0               </td><td>0                 </td></tr>\n",
              "<tr><td>0      </td><td>1.0               </td><td>14.890999999999998</td><td>3606.0            </td><td>283.0             </td><td>2.0               </td><td>34.0             </td><td>11.0              </td><td>Male    </td><td>No       </td><td>Yes      </td><td>Caucasian       </td><td>333.0             </td></tr>\n",
              "<tr><td>1      </td><td>2.0               </td><td>106.025           </td><td>6645.0            </td><td>483.0             </td><td>3.0               </td><td>82.0             </td><td>15.0              </td><td>Female  </td><td>Yes      </td><td>Yes      </td><td>Asian           </td><td>903.0             </td></tr>\n",
              "<tr><td>2      </td><td>3.0               </td><td>104.593           </td><td>7075.0            </td><td>514.0             </td><td>4.0               </td><td>71.0             </td><td>11.0              </td><td>Male    </td><td>No       </td><td>No       </td><td>Asian           </td><td>580.0             </td></tr>\n",
              "<tr><td>3      </td><td>4.0               </td><td>148.924           </td><td>9504.0            </td><td>681.0             </td><td>3.0               </td><td>36.0             </td><td>11.0              </td><td>Female  </td><td>No       </td><td>No       </td><td>Asian           </td><td>964.0             </td></tr>\n",
              "<tr><td>4      </td><td>5.0               </td><td>55.882            </td><td>4897.0            </td><td>357.0             </td><td>2.0               </td><td>68.0             </td><td>16.0              </td><td>Male    </td><td>No       </td><td>Yes      </td><td>Caucasian       </td><td>331.0             </td></tr>\n",
              "<tr><td>5      </td><td>6.0               </td><td>80.18             </td><td>8047.0            </td><td>569.0             </td><td>4.0               </td><td>77.0             </td><td>10.0              </td><td>Male    </td><td>No       </td><td>No       </td><td>Caucasian       </td><td>1151.0            </td></tr>\n",
              "<tr><td>6      </td><td>7.0               </td><td>20.996            </td><td>3388.0            </td><td>259.0             </td><td>2.0               </td><td>37.0             </td><td>12.0              </td><td>Female  </td><td>No       </td><td>No       </td><td>African American</td><td>203.0             </td></tr>\n",
              "<tr><td>7      </td><td>8.0               </td><td>71.408            </td><td>7114.0            </td><td>512.0             </td><td>2.0               </td><td>87.0             </td><td>9.0               </td><td>Male    </td><td>No       </td><td>No       </td><td>Asian           </td><td>872.0             </td></tr>\n",
              "<tr><td>8      </td><td>9.0               </td><td>15.125            </td><td>3300.0            </td><td>266.0             </td><td>5.0               </td><td>66.0             </td><td>13.0              </td><td>Female  </td><td>No       </td><td>No       </td><td>Caucasian       </td><td>279.0             </td></tr>\n",
              "<tr><td>9      </td><td>10.0              </td><td>71.061            </td><td>6819.0            </td><td>491.0             </td><td>3.0               </td><td>41.0             </td><td>19.0              </td><td>Female  </td><td>Yes      </td><td>Yes      </td><td>African American</td><td>1350.0            </td></tr>\n",
              "</tbody>\n",
              "</table>"
            ]
          },
          "metadata": {
            "tags": []
          }
        }
      ]
    },
    {
      "cell_type": "code",
      "metadata": {
        "id": "uTdSvFl_k9fI"
      },
      "source": [
        "y = 'Balance'"
      ],
      "execution_count": 88,
      "outputs": []
    },
    {
      "cell_type": "code",
      "metadata": {
        "id": "uNWmYdgalE5F"
      },
      "source": [
        "splits = df.split_frame(ratios = [0.8], seed = 1)\n",
        "train = splits[0]\n",
        "test = splits[1]"
      ],
      "execution_count": 89,
      "outputs": []
    },
    {
      "cell_type": "code",
      "metadata": {
        "colab": {
          "base_uri": "https://localhost:8080/"
        },
        "id": "I8_0f-fNlNLD",
        "outputId": "b412931c-0ea8-4503-d1e2-07f3099fb2ee"
      },
      "source": [
        "train.shape"
      ],
      "execution_count": 90,
      "outputs": [
        {
          "output_type": "execute_result",
          "data": {
            "text/plain": [
              "(321, 12)"
            ]
          },
          "metadata": {
            "tags": []
          },
          "execution_count": 90
        }
      ]
    },
    {
      "cell_type": "code",
      "metadata": {
        "colab": {
          "base_uri": "https://localhost:8080/"
        },
        "id": "sxKodIARlPLn",
        "outputId": "33c7bacb-145b-4d16-b1b1-e163e7d67507"
      },
      "source": [
        "test.shape"
      ],
      "execution_count": 91,
      "outputs": [
        {
          "output_type": "execute_result",
          "data": {
            "text/plain": [
              "(79, 12)"
            ]
          },
          "metadata": {
            "tags": []
          },
          "execution_count": 91
        }
      ]
    },
    {
      "cell_type": "code",
      "metadata": {
        "colab": {
          "base_uri": "https://localhost:8080/"
        },
        "id": "EI9z4lfFlRJv",
        "outputId": "acf36a34-c745-400f-ca34-94f2db0a4552"
      },
      "source": [
        "aml = H2OAutoML(max_runtime_secs = 120, seed = 1, project_name = \"Credit_Card_Balance__H2o\")\n",
        "aml.train(y = y, training_frame = train, leaderboard_frame = test)"
      ],
      "execution_count": 93,
      "outputs": [
        {
          "output_type": "stream",
          "text": [
            "AutoML progress: |████████████████████████████████████████████████████████| 100%\n"
          ],
          "name": "stdout"
        }
      ]
    },
    {
      "cell_type": "code",
      "metadata": {
        "colab": {
          "base_uri": "https://localhost:8080/"
        },
        "id": "bBLb2Wjslb1A",
        "outputId": "5b6b2b2f-46cd-42ba-cbf0-5fa327a61aed"
      },
      "source": [
        "type(aml.leaderboard.head())"
      ],
      "execution_count": 97,
      "outputs": [
        {
          "output_type": "execute_result",
          "data": {
            "text/plain": [
              "h2o.frame.H2OFrame"
            ]
          },
          "metadata": {
            "tags": []
          },
          "execution_count": 97
        }
      ]
    },
    {
      "cell_type": "code",
      "metadata": {
        "colab": {
          "base_uri": "https://localhost:8080/",
          "height": 235
        },
        "id": "37TXFUfFl8th",
        "outputId": "750f2d63-ff81-46b4-948c-7d57dd909e72"
      },
      "source": [
        "aml.leaderboard.head()"
      ],
      "execution_count": 98,
      "outputs": [
        {
          "output_type": "display_data",
          "data": {
            "text/html": [
              "<table>\n",
              "<thead>\n",
              "<tr><th>model_id                                           </th><th style=\"text-align: right;\">  mean_residual_deviance</th><th style=\"text-align: right;\">   rmse</th><th style=\"text-align: right;\">    mse</th><th style=\"text-align: right;\">    mae</th><th style=\"text-align: right;\">  rmsle</th></tr>\n",
              "</thead>\n",
              "<tbody>\n",
              "<tr><td>StackedEnsemble_BestOfFamily_AutoML_20210621_080039</td><td style=\"text-align: right;\">                 4933.99</td><td style=\"text-align: right;\">70.2424</td><td style=\"text-align: right;\">4933.99</td><td style=\"text-align: right;\">55.0679</td><td style=\"text-align: right;\">    nan</td></tr>\n",
              "<tr><td>GBM_grid__1_AutoML_20210621_080039_model_8         </td><td style=\"text-align: right;\">                 6690   </td><td style=\"text-align: right;\">81.7924</td><td style=\"text-align: right;\">6690   </td><td style=\"text-align: right;\">55.6827</td><td style=\"text-align: right;\">    nan</td></tr>\n",
              "<tr><td>XGBoost_grid__1_AutoML_20210621_080039_model_10    </td><td style=\"text-align: right;\">                 7036.74</td><td style=\"text-align: right;\">83.8853</td><td style=\"text-align: right;\">7036.74</td><td style=\"text-align: right;\">55.2455</td><td style=\"text-align: right;\">    nan</td></tr>\n",
              "<tr><td>XGBoost_grid__1_AutoML_20210621_080039_model_5     </td><td style=\"text-align: right;\">                 7306.47</td><td style=\"text-align: right;\">85.4779</td><td style=\"text-align: right;\">7306.47</td><td style=\"text-align: right;\">60.0608</td><td style=\"text-align: right;\">    nan</td></tr>\n",
              "<tr><td>StackedEnsemble_AllModels_AutoML_20210621_080039   </td><td style=\"text-align: right;\">                 8153.43</td><td style=\"text-align: right;\">90.2963</td><td style=\"text-align: right;\">8153.43</td><td style=\"text-align: right;\">66.4254</td><td style=\"text-align: right;\">    nan</td></tr>\n",
              "<tr><td>XGBoost_grid__1_AutoML_20210621_080039_model_23    </td><td style=\"text-align: right;\">                 8195.17</td><td style=\"text-align: right;\">90.5272</td><td style=\"text-align: right;\">8195.17</td><td style=\"text-align: right;\">59.8424</td><td style=\"text-align: right;\">    nan</td></tr>\n",
              "<tr><td>XGBoost_grid__1_AutoML_20210621_080039_model_21    </td><td style=\"text-align: right;\">                 8674.74</td><td style=\"text-align: right;\">93.1383</td><td style=\"text-align: right;\">8674.74</td><td style=\"text-align: right;\">56.2049</td><td style=\"text-align: right;\">    nan</td></tr>\n",
              "<tr><td>GBM_grid__1_AutoML_20210621_080039_model_14        </td><td style=\"text-align: right;\">                 9066.51</td><td style=\"text-align: right;\">95.2182</td><td style=\"text-align: right;\">9066.51</td><td style=\"text-align: right;\">64.5147</td><td style=\"text-align: right;\">    nan</td></tr>\n",
              "<tr><td>XGBoost_grid__1_AutoML_20210621_080039_model_6     </td><td style=\"text-align: right;\">                 9315.94</td><td style=\"text-align: right;\">96.5191</td><td style=\"text-align: right;\">9315.94</td><td style=\"text-align: right;\">70.3806</td><td style=\"text-align: right;\">    nan</td></tr>\n",
              "<tr><td>DeepLearning_grid__1_AutoML_20210621_080039_model_3</td><td style=\"text-align: right;\">                 9544.83</td><td style=\"text-align: right;\">97.6977</td><td style=\"text-align: right;\">9544.83</td><td style=\"text-align: right;\">83.7374</td><td style=\"text-align: right;\">    nan</td></tr>\n",
              "</tbody>\n",
              "</table>"
            ]
          },
          "metadata": {
            "tags": []
          }
        },
        {
          "output_type": "execute_result",
          "data": {
            "text/plain": [
              ""
            ]
          },
          "metadata": {
            "tags": []
          },
          "execution_count": 98
        }
      ]
    },
    {
      "cell_type": "code",
      "metadata": {
        "colab": {
          "base_uri": "https://localhost:8080/"
        },
        "id": "yJrU_LPbmRCv",
        "outputId": "175fdf34-fc32-4052-cf38-eee7e4662d09"
      },
      "source": [
        "perf = aml.leader.model_performance(test)\n",
        "perf"
      ],
      "execution_count": 99,
      "outputs": [
        {
          "output_type": "stream",
          "text": [
            "\n",
            "ModelMetricsRegressionGLM: stackedensemble\n",
            "** Reported on test data. **\n",
            "\n",
            "MSE: 4933.992811996802\n",
            "RMSE: 70.24238614965185\n",
            "MAE: 55.067852338217264\n",
            "RMSLE: NaN\n",
            "R^2: 0.9772972043038628\n",
            "Mean Residual Deviance: 4933.992811996802\n",
            "Null degrees of freedom: 78\n",
            "Residual degrees of freedom: 74\n",
            "Null deviance: 17485455.910385177\n",
            "Residual deviance: 389785.4321477473\n",
            "AIC: 908.0006916266757\n"
          ],
          "name": "stdout"
        },
        {
          "output_type": "execute_result",
          "data": {
            "text/plain": [
              ""
            ]
          },
          "metadata": {
            "tags": []
          },
          "execution_count": 99
        }
      ]
    },
    {
      "cell_type": "code",
      "metadata": {
        "id": "DpVZWh6wmcMq"
      },
      "source": [
        ""
      ],
      "execution_count": null,
      "outputs": []
    },
    {
      "cell_type": "code",
      "metadata": {
        "colab": {
          "base_uri": "https://localhost:8080/"
        },
        "id": "Wr3B-OyAmgJp",
        "outputId": "42e24643-1a99-4849-cca8-fc38a6380720"
      },
      "source": [
        "aml_full= H2OAutoML(max_runtime_secs = 600, seed = 1, project_name = \"Credit_Card_Balance__H2o\")\n",
        "aml_full.train(y = y, training_frame = train)"
      ],
      "execution_count": 100,
      "outputs": [
        {
          "output_type": "stream",
          "text": [
            "AutoML progress: |\n",
            "08:05:33.449: New models will be added to existing leaderboard Credit_Card_Balance__H2o@@Balance (leaderboard frame=py_3_sid_a90b) with already 70 models.\n",
            "\n",
            "█████████████████████████████████████████████████████\n",
            "08:13:57.758: StackedEnsemble_BestOfFamily_AutoML_20210621_080533 [StackedEnsemble best (built using top model from each algorithm type)] failed: water.exceptions.H2OIllegalArgumentException: Failed to find the xval predictions frame. . .  Looks like keep_cross_validation_predictions wasn't set when building the models, or the frame was deleted.\n",
            "\n",
            "███| 100%\n",
            "\n",
            "08:13:58.768: StackedEnsemble_AllModels_AutoML_20210621_080533 [StackedEnsemble all (built using all AutoML models)] failed: water.exceptions.H2OIllegalArgumentException: Failed to find the xval predictions frame. . .  Looks like keep_cross_validation_predictions wasn't set when building the models, or the frame was deleted.\n",
            "\n"
          ],
          "name": "stdout"
        }
      ]
    },
    {
      "cell_type": "code",
      "metadata": {
        "colab": {
          "base_uri": "https://localhost:8080/",
          "height": 235
        },
        "id": "pKjsb_fVmmyW",
        "outputId": "c2cfd805-93f4-41b0-cfff-85e052b27dce"
      },
      "source": [
        "aml_full.leaderboard.head()"
      ],
      "execution_count": 102,
      "outputs": [
        {
          "output_type": "display_data",
          "data": {
            "text/html": [
              "<table>\n",
              "<thead>\n",
              "<tr><th>model_id                                           </th><th style=\"text-align: right;\">  mean_residual_deviance</th><th style=\"text-align: right;\">   rmse</th><th style=\"text-align: right;\">    mse</th><th style=\"text-align: right;\">    mae</th><th style=\"text-align: right;\">    rmsle</th></tr>\n",
              "</thead>\n",
              "<tbody>\n",
              "<tr><td>StackedEnsemble_BestOfFamily_AutoML_20210621_080039</td><td style=\"text-align: right;\">                 4933.99</td><td style=\"text-align: right;\">70.2424</td><td style=\"text-align: right;\">4933.99</td><td style=\"text-align: right;\">55.0679</td><td style=\"text-align: right;\">nan      </td></tr>\n",
              "<tr><td>GBM_grid__1_AutoML_20210621_080533_model_165       </td><td style=\"text-align: right;\">                 5421.54</td><td style=\"text-align: right;\">73.6311</td><td style=\"text-align: right;\">5421.54</td><td style=\"text-align: right;\">49.1649</td><td style=\"text-align: right;\">nan      </td></tr>\n",
              "<tr><td>GBM_grid__1_AutoML_20210621_080533_model_81        </td><td style=\"text-align: right;\">                 5657.15</td><td style=\"text-align: right;\">75.214 </td><td style=\"text-align: right;\">5657.15</td><td style=\"text-align: right;\">54.0959</td><td style=\"text-align: right;\">nan      </td></tr>\n",
              "<tr><td>GBM_grid__1_AutoML_20210621_080533_model_59        </td><td style=\"text-align: right;\">                 5983.13</td><td style=\"text-align: right;\">77.3507</td><td style=\"text-align: right;\">5983.13</td><td style=\"text-align: right;\">51.9403</td><td style=\"text-align: right;\">nan      </td></tr>\n",
              "<tr><td>GBM_grid__1_AutoML_20210621_080533_model_39        </td><td style=\"text-align: right;\">                 6008.16</td><td style=\"text-align: right;\">77.5123</td><td style=\"text-align: right;\">6008.16</td><td style=\"text-align: right;\">47.5765</td><td style=\"text-align: right;\">  1.17665</td></tr>\n",
              "<tr><td>GBM_grid__1_AutoML_20210621_080533_model_186       </td><td style=\"text-align: right;\">                 6116.06</td><td style=\"text-align: right;\">78.2052</td><td style=\"text-align: right;\">6116.06</td><td style=\"text-align: right;\">51.8476</td><td style=\"text-align: right;\">nan      </td></tr>\n",
              "<tr><td>GBM_grid__1_AutoML_20210621_080533_model_104       </td><td style=\"text-align: right;\">                 6233.11</td><td style=\"text-align: right;\">78.95  </td><td style=\"text-align: right;\">6233.11</td><td style=\"text-align: right;\">48.0561</td><td style=\"text-align: right;\">nan      </td></tr>\n",
              "<tr><td>XGBoost_grid__1_AutoML_20210621_080533_model_96    </td><td style=\"text-align: right;\">                 6307.28</td><td style=\"text-align: right;\">79.4184</td><td style=\"text-align: right;\">6307.28</td><td style=\"text-align: right;\">54.3945</td><td style=\"text-align: right;\">nan      </td></tr>\n",
              "<tr><td>XGBoost_grid__1_AutoML_20210621_080533_model_81    </td><td style=\"text-align: right;\">                 6391.86</td><td style=\"text-align: right;\">79.9491</td><td style=\"text-align: right;\">6391.86</td><td style=\"text-align: right;\">49.4998</td><td style=\"text-align: right;\">nan      </td></tr>\n",
              "<tr><td>GBM_grid__1_AutoML_20210621_080533_model_40        </td><td style=\"text-align: right;\">                 6644.11</td><td style=\"text-align: right;\">81.5114</td><td style=\"text-align: right;\">6644.11</td><td style=\"text-align: right;\">51.198 </td><td style=\"text-align: right;\">nan      </td></tr>\n",
              "</tbody>\n",
              "</table>"
            ]
          },
          "metadata": {
            "tags": []
          }
        },
        {
          "output_type": "execute_result",
          "data": {
            "text/plain": [
              ""
            ]
          },
          "metadata": {
            "tags": []
          },
          "execution_count": 102
        }
      ]
    },
    {
      "cell_type": "code",
      "metadata": {
        "id": "lzI7brJaoyEJ"
      },
      "source": [
        ""
      ],
      "execution_count": null,
      "outputs": []
    }
  ]
}